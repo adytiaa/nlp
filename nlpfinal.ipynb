{
 "cells": [
  {
   "cell_type": "markdown",
   "metadata": {},
   "source": [
    "# Modul \"NLP/Sprachverarbeitung\"\n",
    "Introduction\n",
    "Computational linguistics\n",
    "Statistical models\n",
    "Neural networks\n",
    "Elements of NLP: Computational Representations\n",
    "Entities\n",
    "Tokensiation\n",
    "Syntax\n",
    "Lexions\n",
    "Vector space embeddings\n",
    "Modeling natural language \n",
    "Pre-processing of data \n",
    "Convolutional neural networks\n",
    "Dense networks\n",
    "RNNS: LSTMS and GRUs in practise\n",
    "Advanced models:  Bi-directional LSTM and stacked LSTM\n",
    "Hyper-parameter tuning\n",
    "Applications of NLP\n",
    "Chatbots\n",
    "Sentiment analysis\n",
    "Spam filtering\n",
    "News flows classification\n",
    "Important NLP libraries: NLTK, SpaCy, etc.\n",
    "Techniques\n",
    "Text Classification: Linear classifiers, Naive bayes and deep learning technique\n",
    "Information Retrieval\n",
    "Information Extraction\n",
    "Named entity recognition\n",
    "Relationship extraction\n",
    "Topic segmentation\n",
    "Language Modeling and Sequence Tagging\n",
    "Hands-on: Sentiment analysis for movie review data \n",
    "\n",
    "\n",
    "NLP Tutorial – Objective\n",
    "\n",
    "Today, in our journey of Artificial Intelligence with Python, we will discuss NLP Tutorial, we will discuss the rudiments of Natural Language Processing. We will start our NLP tutorial with NLP definition and a brief introduction. Then, we will move towards components, libraries, and benefits of natural processing language. Also, we will discuss Natural Language Processing Applications, NLP examples, and tools. \n",
    "So, let’s start NLP Tutorial.\n",
    "\n",
    "NLP is a way for computers to analyze human language and derive useful meaning from it. It lets you organize and structure knowledge to let you perform the following tasks-\n",
    "\n",
    "    Automatic Summarization\n",
    "    Translation\n",
    "    Named Entity Recognition\n",
    "    Relationship Extraction\n",
    "    Sentiment Analysis\n",
    "    Speech Recognition\n",
    "    Topic Segmentation\n",
    "\n",
    "NLP analyzes text and allows machines to understand how we speak. It considers the hierarchical structure of language and performs tasks like correcting the grammar, converting speech to text, and translating between languages. In computer science, it is a hard problem.\n",
    "\n",
    "\n",
    " Natural Language Understanding (NLU)\n",
    "\n",
    "Natural Language Understanding revolves around machine reading comprehension. This is an AI-hard problem. An NLU system needs the following components-\n",
    "\n",
    "    Lexicon, Parser, and Grammar rules.\n",
    "    Semantic theory- to guide comprehension.\n",
    "\n",
    "b. Natural Language Generation (NLG)\n",
    "\n",
    "NLG is concerned with generating natural language. It uses a machine representation system like a knowledge base or a logical form. You can think of it as a translator between data and natural language representation; this is the opposite or NLU. This involves three tasks-\n",
    "\n",
    "    Text Planning- To extract relevant content from the knowledge base.\n",
    "    Sentence Planning- To choose appropriate words, form meaningful phrases, and set sentence tone.\n",
    "    Text Realization- To map the sentence plan into sentence structure.\n"
   ]
  },
  {
   "cell_type": "markdown",
   "metadata": {},
   "source": [
    "# NLP Tutorial – Glossary in NLP\n",
    "\n",
    "a. Phonology\n",
    "Study of organizing sound systematically.\n",
    "b. Morphology\n",
    "Study of constructing words from primitive meaningful units.\n",
    "c. Morpheme\n",
    "Primitive unit of meaning in a language.\n",
    "d. Syntax\n",
    "Arranging words to form a sentence; determining the structural role of words in sentences and phrases.\n",
    "e. Semantics\n",
    "Studying the meanings of words and combining them to make meaningful phrases and sentences.\n",
    "f. Pragmatics\n",
    "Using and understanding sentences in various situations; determining how this affects sentence interpretation.\n",
    "g. Discourse\n",
    "Understanding how a sentence can affect the next.\n",
    "h. World Knowledge\n",
    "General knowledge about the world.\n",
    "Do you know about Search Algorithms in Artificial Intelligence"
   ]
  },
  {
   "cell_type": "code",
   "execution_count": null,
   "metadata": {
    "collapsed": true
   },
   "outputs": [],
   "source": [
    "Table of Contents [hide]\n",
    "\n",
    "    1 What is NLP?\n",
    "    2 Benefits of NLP\n",
    "    3 NLP Implementations\n",
    "    4 NLP Libraries\n",
    "    5 Install NLTK\n",
    "    6 Tokenize Text Using Pure Python\n",
    "    7 Count Word Frequency\n",
    "    8 Remove Stop Words Using NLTK\n",
    "    9 Tokenize Text Using NLTK\n",
    "    10 Tokenize non-English Languages Text\n",
    "    11 Get Synonyms from WordNet\n",
    "    12 Get Antonyms from WordNet\n",
    "    13 NLTK Word Stemming\n",
    "    14 Stemming non-English Words\n",
    "    15 Lemmatizing Words Using WordNet\n",
    "    16 Stemming and Lemmatization Difference"
   ]
  },
  {
   "cell_type": "markdown",
   "metadata": {},
   "source": [
    "# What is NLP?\n",
    "\n",
    "Natural Language Processing, or NLP, is an area of computer science that focuses on developing techniques to produce machine-driven analyses of text.\n",
    "Why is Natural Language Processing Important?\n",
    "\n",
    "NLP expands the sheer amount of data that can be used for insight. Since so much of the data we have available is in the form of text, this is extremely important to data science!\n",
    "\n",
    "A specific common application of NLP is each time you use a language conversion tool. The techniques used to accurately convert text from one language to another very much falls under the umbrella of \"natural language processing.\"\n",
    "\n",
    "# Why is NLP a \"hard\" problem?\n",
    "\n",
    "Language is inherently ambiguous. Once person's interpretation of a sentence may very well differ from another person's interpretation. Because of this inability to consistently be clear, it's hard to have an NLP technique that works perfectly. \n",
    "\n",
    "\n",
    "\n",
    "\n",
    "# What Can Developers Use NLP Algorithms For?\n",
    "\n",
    "NLP algorithms are typically based on machine learning algorithms. Instead of hand-coding large sets of rules, NLP can rely on machine learning to automatically learn these rules by analyzing a set of examples (i.e. a large corpus, like a book, down to a collection of sentences), and making a statical inference. In general, the more data analyzed, the more accurate the model will be.\n",
    "\n",
    "    Summarize blocks of text using Summarizer to extract the most important and central ideas while ignoring irrelevant information. \n",
    "    Create a chat bot using Parsey McParseface, a language parsing deep learning model made by Google that uses Point-of-Speech tagging.\n",
    "    Automatically generate keyword tags from content using AutoTag, which leverages LDA, a technique that discovers topics contained within a body of text.\n",
    "    Identify the type of entity extracted, such as it being a person, place, or organization using Named Entity Recognition.\n",
    "    Use Sentiment Analysis to identify the sentiment of a string of text, from very negative to neutral to very positive.\n",
    "    Reduce words to their root, or stem, using PorterStemmer, or break up text into tokens using Tokenizer.\n",
    "\n"
   ]
  },
  {
   "cell_type": "markdown",
   "metadata": {},
   "source": [
    "# Tasks in NLP\n",
    "\n",
    "With Natural Language Processing, we carry out five different tasks\n",
    "\n",
    "a. Lexical Analysis\n",
    "\n",
    "Lexical analysis deals with identifying and analyzing word structure. We divide the whole chunk of text into paragraphs, sentences, and words.\n",
    "b. Syntactic Analysis\n",
    "\n",
    "Also called parsing, it involves analyzing words in sentences for grammar and rearranging them to determine how they relate to each other. It rejects sentences like “The apple eats the girl”.\n",
    "c. Semantic Analysis\n",
    "\n",
    "This deals with extracting the dictionary meanings from text. It also maps syntactic structures and objects in the task domain to check for meaningfulness. It rejects statements like “tall stub”.\n",
    "d. Discourse Integration\n",
    "\n",
    "It analyzes the previous sentence to guess the meaning of the current sentence and the one after it.\n",
    "e. Pragmatic Analysis\n",
    "\n",
    "This reinterprets the statement to ensure it determines correctly what the statement means. It tries to retrieve aspects of the language that requires knowledge of real world\n",
    "\n",
    "\n",
    "\n"
   ]
  },
  {
   "cell_type": "markdown",
   "metadata": {},
   "source": [
    "# Outline for NLP tutorial\n",
    "\n",
    "### Combinaton of  theoretical concepts with a focus on hands-on techniques and strategies covering a wide variety of NLP problems such as \n",
    "\n",
    "   *  Processing & Understanding Text\n",
    "   *  Feature Engineering & Text Representation\n",
    "   *  Supervised Learning Models for Text Data\n",
    "   *  Unsupervised Learning Models for Text Data\n",
    "   *  Advanced Topics\n",
    " "
   ]
  },
  {
   "cell_type": "markdown",
   "metadata": {},
   "source": [
    "What is NLP?\n",
    "\n",
    "Simply and in short, natural language processing (NLP) is about developing applications and services that are able to understand human languages.\n",
    "\n",
    "We are talking here about practical examples of natural language processing (NLP) like speech recognition, speech translation, understanding complete sentences, understanding synonyms of matching words, and writing complete grammatically correct sentences and paragraphs.\n",
    "\n",
    "This is not everything, you can think about the industrial implementations about these ideas and its benefits"
   ]
  },
  {
   "cell_type": "code",
   "execution_count": null,
   "metadata": {
    "collapsed": true
   },
   "outputs": [],
   "source": []
  },
  {
   "cell_type": "markdown",
   "metadata": {},
   "source": [
    "# NLP Implementations\n",
    "\n",
    "These are some of the successful implementation of Natural Language Processing (NLP):\n",
    "\n",
    "    Search engines like Google, Yahoo, etc. Google search engine understands that you are a tech guy so it shows you results related to you.\n",
    "    Social websites feeds like Facebook news feed. The news feed algorithm understands your interests using natural language processing and shows you related Ads and posts more likely than other posts.\n",
    "    Speech engines like Apple Siri.\n",
    "    Spam filters like Google spam filters. It’s not just about the usual spam filtering, now spam filters understand what’s inside the email content and see if it’s a spam or not.\n",
    "\n",
    " \n",
    " \n",
    "# NLP Libraries\n",
    "\n",
    "There are many open source Natural Language Processing (NLP) libraries and these are some of them:\n",
    "\n",
    "    Natural language toolkit (NLTK).\n",
    "    Apache OpenNLP.\n",
    "    Stanford NLP suite.\n",
    "    Gate NLP library.\n",
    "\n",
    "Natural language toolkit (NLTK) is the most popular library for natural language processing (NLP) which was written in Python and has a big community behind it.\n",
    "\n",
    "NLTK also is very easy to learn, actually, it’s the easiest natural language processing (NLP) library that you’ll use.\n",
    "\n",
    "In this NLP Tutorial, we will use Python NLTK librar\n",
    " "
   ]
  },
  {
   "cell_type": "code",
   "execution_count": null,
   "metadata": {
    "collapsed": true
   },
   "outputs": [],
   "source": []
  },
  {
   "cell_type": "markdown",
   "metadata": {},
   "source": [
    "# NLP Applications\n",
    "\n",
    "With NLP, we can do the following-\n",
    "\n",
    "    Summarizing blocks of text.\n",
    "    Creating chatbots.\n",
    "    Machine translation.\n",
    "    Fighting spam.\n",
    "    Extracting information.\n",
    "    Automatically generating keyword tags.\n",
    "    Identifying types of entities extracted.\n",
    "    Identifying the sentiment of a string with sentiment analysis.\n",
    "    Reducing words to their roots.\n",
    "    Summarizing.\n",
    "    Question-answering.\n",
    "    Customer service.\n",
    "    Market analysis."
   ]
  },
  {
   "cell_type": "code",
   "execution_count": null,
   "metadata": {
    "collapsed": true
   },
   "outputs": [],
   "source": []
  },
  {
   "cell_type": "code",
   "execution_count": null,
   "metadata": {
    "collapsed": true
   },
   "outputs": [],
   "source": []
  },
  {
   "cell_type": "code",
   "execution_count": null,
   "metadata": {
    "collapsed": true
   },
   "outputs": [],
   "source": [
    "Knowledge about the structure and syntax of language is helpful in many areas like text processing, annotation, and parsing for further operations such as text classification or summarization. Typical parsing techniques for understanding text syntax are mentioned below.\n",
    "\n",
    "    Parts of Speech (POS) Tagging\n",
    "    Shallow Parsing or Chunking\n",
    "    Constituency Parsing\n",
    "    Dependency Parsing"
   ]
  },
  {
   "cell_type": "markdown",
   "metadata": {},
   "source": []
  },
  {
   "cell_type": "markdown",
   "metadata": {},
   "source": [
    "Shallow Parsing or Chunking\n",
    "\n",
    "Based on the hierarchy we depicted earlier, groups of words make up phrases. There are five major categories of phrases:\n",
    "\n",
    "    Noun phrase (NP): These are phrases where a noun acts as the head word. Noun phrases act as a subject or object to a verb.\n",
    "    Verb phrase (VP): These phrases are lexical units that have a verb acting as the head word. Usually, there are two forms of verb phrases. One form has the verb components as well as other entities such as nouns, adjectives, or adverbs as parts of the object.\n",
    "    Adjective phrase (ADJP): These are phrases with an adjective as the head word. Their main role is to describe or qualify nouns and pronouns in a sentence, and they will be either placed before or after the noun or pronoun.\n",
    "    Adverb phrase (ADVP): These phrases act like adverbs since the adverb acts as the head word in the phrase. Adverb phrases are used as modifiers for nouns, verbs, or adverbs themselves by providing further details that describe or qualify them.\n",
    "    Prepositional phrase (PP): These phrases usually contain a preposition as the head word and other lexical components like nouns, pronouns, and so on. These act like an adjective or adverb describing other words or phrases."
   ]
  }
 ],
 "metadata": {
  "kernelspec": {
   "display_name": "Python 3",
   "language": "python",
   "name": "python3"
  },
  "language_info": {
   "codemirror_mode": {
    "name": "ipython",
    "version": 3
   },
   "file_extension": ".py",
   "mimetype": "text/x-python",
   "name": "python",
   "nbconvert_exporter": "python",
   "pygments_lexer": "ipython3",
   "version": "3.6.2"
  }
 },
 "nbformat": 4,
 "nbformat_minor": 2
}
